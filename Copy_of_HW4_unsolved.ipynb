{
  "nbformat": 4,
  "nbformat_minor": 0,
  "metadata": {
    "colab": {
      "name": "Copy of HW4_unsolved.ipynb",
      "provenance": [],
      "collapsed_sections": [],
      "toc_visible": true,
      "include_colab_link": true
    },
    "kernelspec": {
      "display_name": "Python 3",
      "language": "python",
      "name": "python3"
    },
    "language_info": {
      "codemirror_mode": {
        "name": "ipython",
        "version": 3
      },
      "file_extension": ".py",
      "mimetype": "text/x-python",
      "name": "python",
      "nbconvert_exporter": "python",
      "pygments_lexer": "ipython3",
      "version": "3.7.4"
    }
  },
  "cells": [
    {
      "cell_type": "markdown",
      "metadata": {
        "id": "view-in-github",
        "colab_type": "text"
      },
      "source": [
        "<a href=\"https://colab.research.google.com/github/Gorlevichd/Gorlevichd/blob/main/Copy_of_HW4_unsolved.ipynb\" target=\"_parent\"><img src=\"https://colab.research.google.com/assets/colab-badge.svg\" alt=\"Open In Colab\"/></a>"
      ]
    },
    {
      "cell_type": "markdown",
      "metadata": {
        "id": "sdwwxjAQFXfw"
      },
      "source": [
        "<center><img src=\"https://github.com/hse-ds/iad-applied-ds/blob/master/2021/hw/hw1/img/logo_hse.png?raw=1\" width=\"1000\"></center>\n",
        "\n",
        "<h1><center>Прикладные задачи анализа данных</center></h1>\n",
        "<h2><center>Домашнее задание 4: Прогнозирование временных рядов</center></h2>"
      ]
    },
    {
      "cell_type": "markdown",
      "metadata": {
        "id": "7YFkvK6vFXf9"
      },
      "source": [
        "# Введение\n",
        "\n",
        "В этом задании Вам предстоит разобраться с основами анализа и прогнозирования временных рядов. \n",
        "\n",
        "\n",
        "![image](https://imgs.xkcd.com/comics/extrapolating.png)"
      ]
    },
    {
      "cell_type": "code",
      "metadata": {
        "id": "DPQ9427wjLeX",
        "colab": {
          "base_uri": "https://localhost:8080/"
        },
        "outputId": "c8e83d63-97bc-4d3e-d9e2-48612ee32a18"
      },
      "source": [
        "!pip install orbit-ml\n",
        "!pip install prophet\n",
        "!pip install sktime[all_extras]"
      ],
      "execution_count": 1,
      "outputs": [
        {
          "output_type": "stream",
          "text": [
            "Requirement already satisfied: orbit-ml in /usr/local/lib/python3.7/dist-packages (1.0.13)\n",
            "Requirement already satisfied: numpy>=1.18.2 in /usr/local/lib/python3.7/dist-packages (from orbit-ml) (1.19.5)\n",
            "Requirement already satisfied: pandas>=1.0.3 in /usr/local/lib/python3.7/dist-packages (from orbit-ml) (1.1.5)\n",
            "Requirement already satisfied: tqdm in /usr/local/lib/python3.7/dist-packages (from orbit-ml) (4.41.1)\n",
            "Requirement already satisfied: statsmodels>=0.11.1 in /usr/local/lib/python3.7/dist-packages (from orbit-ml) (0.12.2)\n",
            "Requirement already satisfied: scipy>=1.4.1 in /usr/local/lib/python3.7/dist-packages (from orbit-ml) (1.4.1)\n",
            "Requirement already satisfied: pystan==2.19.1.1 in /usr/local/lib/python3.7/dist-packages (from orbit-ml) (2.19.1.1)\n",
            "Requirement already satisfied: custom-inherit==2.3.1 in /usr/local/lib/python3.7/dist-packages (from orbit-ml) (2.3.1)\n",
            "Requirement already satisfied: matplotlib==3.3.4 in /usr/local/lib/python3.7/dist-packages (from orbit-ml) (3.3.4)\n",
            "Requirement already satisfied: torch in /usr/local/lib/python3.7/dist-packages (from orbit-ml) (1.8.1+cu101)\n",
            "Requirement already satisfied: seaborn>=0.10.0 in /usr/local/lib/python3.7/dist-packages (from orbit-ml) (0.11.1)\n",
            "Requirement already satisfied: pyro-ppl>=1.4.0 in /usr/local/lib/python3.7/dist-packages (from orbit-ml) (1.6.0)\n",
            "Requirement already satisfied: pytz>=2017.2 in /usr/local/lib/python3.7/dist-packages (from pandas>=1.0.3->orbit-ml) (2018.9)\n",
            "Requirement already satisfied: python-dateutil>=2.7.3 in /usr/local/lib/python3.7/dist-packages (from pandas>=1.0.3->orbit-ml) (2.8.1)\n",
            "Requirement already satisfied: patsy>=0.5 in /usr/local/lib/python3.7/dist-packages (from statsmodels>=0.11.1->orbit-ml) (0.5.1)\n",
            "Requirement already satisfied: Cython!=0.25.1,>=0.22 in /usr/local/lib/python3.7/dist-packages (from pystan==2.19.1.1->orbit-ml) (0.29.23)\n",
            "Requirement already satisfied: pyparsing!=2.0.4,!=2.1.2,!=2.1.6,>=2.0.3 in /usr/local/lib/python3.7/dist-packages (from matplotlib==3.3.4->orbit-ml) (2.4.7)\n",
            "Requirement already satisfied: kiwisolver>=1.0.1 in /usr/local/lib/python3.7/dist-packages (from matplotlib==3.3.4->orbit-ml) (1.3.1)\n",
            "Requirement already satisfied: pillow>=6.2.0 in /usr/local/lib/python3.7/dist-packages (from matplotlib==3.3.4->orbit-ml) (7.1.2)\n",
            "Requirement already satisfied: cycler>=0.10 in /usr/local/lib/python3.7/dist-packages (from matplotlib==3.3.4->orbit-ml) (0.10.0)\n",
            "Requirement already satisfied: typing-extensions in /usr/local/lib/python3.7/dist-packages (from torch->orbit-ml) (3.7.4.3)\n",
            "Requirement already satisfied: pyro-api>=0.1.1 in /usr/local/lib/python3.7/dist-packages (from pyro-ppl>=1.4.0->orbit-ml) (0.1.2)\n",
            "Requirement already satisfied: opt-einsum>=2.3.2 in /usr/local/lib/python3.7/dist-packages (from pyro-ppl>=1.4.0->orbit-ml) (3.3.0)\n",
            "Requirement already satisfied: six>=1.5 in /usr/local/lib/python3.7/dist-packages (from python-dateutil>=2.7.3->pandas>=1.0.3->orbit-ml) (1.15.0)\n",
            "Requirement already satisfied: prophet in /usr/local/lib/python3.7/dist-packages (1.0.1)\n",
            "Requirement already satisfied: convertdate>=2.1.2 in /usr/local/lib/python3.7/dist-packages (from prophet) (2.3.2)\n",
            "Requirement already satisfied: pandas>=1.0.4 in /usr/local/lib/python3.7/dist-packages (from prophet) (1.1.5)\n",
            "Requirement already satisfied: Cython>=0.22 in /usr/local/lib/python3.7/dist-packages (from prophet) (0.29.23)\n",
            "Requirement already satisfied: setuptools-git>=1.2 in /usr/local/lib/python3.7/dist-packages (from prophet) (1.2)\n",
            "Requirement already satisfied: matplotlib>=2.0.0 in /usr/local/lib/python3.7/dist-packages (from prophet) (3.3.4)\n",
            "Requirement already satisfied: pystan~=2.19.1.1 in /usr/local/lib/python3.7/dist-packages (from prophet) (2.19.1.1)\n",
            "Requirement already satisfied: tqdm>=4.36.1 in /usr/local/lib/python3.7/dist-packages (from prophet) (4.41.1)\n",
            "Collecting cmdstanpy==0.9.68\n",
            "  Using cached https://files.pythonhosted.org/packages/08/b9/b4f0938b38dbe775c4def707f525ab816b9d0215ecd8ab2d76780f4514f8/cmdstanpy-0.9.68-py3-none-any.whl\n",
            "Requirement already satisfied: LunarCalendar>=0.0.9 in /usr/local/lib/python3.7/dist-packages (from prophet) (0.0.9)\n",
            "Requirement already satisfied: holidays>=0.10.2 in /usr/local/lib/python3.7/dist-packages (from prophet) (0.10.5.2)\n",
            "Requirement already satisfied: numpy>=1.15.4 in /usr/local/lib/python3.7/dist-packages (from prophet) (1.19.5)\n",
            "Requirement already satisfied: python-dateutil>=2.8.0 in /usr/local/lib/python3.7/dist-packages (from prophet) (2.8.1)\n",
            "Requirement already satisfied: pytz>=2014.10 in /usr/local/lib/python3.7/dist-packages (from convertdate>=2.1.2->prophet) (2018.9)\n",
            "Requirement already satisfied: pymeeus<=1,>=0.3.13 in /usr/local/lib/python3.7/dist-packages (from convertdate>=2.1.2->prophet) (0.5.11)\n",
            "Requirement already satisfied: kiwisolver>=1.0.1 in /usr/local/lib/python3.7/dist-packages (from matplotlib>=2.0.0->prophet) (1.3.1)\n",
            "Requirement already satisfied: cycler>=0.10 in /usr/local/lib/python3.7/dist-packages (from matplotlib>=2.0.0->prophet) (0.10.0)\n",
            "Requirement already satisfied: pillow>=6.2.0 in /usr/local/lib/python3.7/dist-packages (from matplotlib>=2.0.0->prophet) (7.1.2)\n",
            "Requirement already satisfied: pyparsing!=2.0.4,!=2.1.2,!=2.1.6,>=2.0.3 in /usr/local/lib/python3.7/dist-packages (from matplotlib>=2.0.0->prophet) (2.4.7)\n",
            "Requirement already satisfied: ujson in /usr/local/lib/python3.7/dist-packages (from cmdstanpy==0.9.68->prophet) (4.0.2)\n",
            "Requirement already satisfied: ephem>=3.7.5.3 in /usr/local/lib/python3.7/dist-packages (from LunarCalendar>=0.0.9->prophet) (3.7.7.1)\n",
            "Requirement already satisfied: korean-lunar-calendar in /usr/local/lib/python3.7/dist-packages (from holidays>=0.10.2->prophet) (0.2.1)\n",
            "Requirement already satisfied: six in /usr/local/lib/python3.7/dist-packages (from holidays>=0.10.2->prophet) (1.15.0)\n",
            "Requirement already satisfied: hijri-converter in /usr/local/lib/python3.7/dist-packages (from holidays>=0.10.2->prophet) (2.1.1)\n",
            "\u001b[31mERROR: fbprophet 0.7.1 has requirement cmdstanpy==0.9.5, but you'll have cmdstanpy 0.9.68 which is incompatible.\u001b[0m\n",
            "Installing collected packages: cmdstanpy\n",
            "  Found existing installation: cmdstanpy 0.9.5\n",
            "    Uninstalling cmdstanpy-0.9.5:\n",
            "      Successfully uninstalled cmdstanpy-0.9.5\n",
            "Successfully installed cmdstanpy-0.9.68\n",
            "Requirement already satisfied: sktime[all_extras] in /usr/local/lib/python3.7/dist-packages (0.6.1)\n",
            "Requirement already satisfied: pandas>=1.1.0 in /usr/local/lib/python3.7/dist-packages (from sktime[all_extras]) (1.1.5)\n",
            "Requirement already satisfied: scikit-learn>=0.24.0 in /usr/local/lib/python3.7/dist-packages (from sktime[all_extras]) (0.24.2)\n",
            "Requirement already satisfied: wheel in /usr/local/lib/python3.7/dist-packages (from sktime[all_extras]) (0.36.2)\n",
            "Requirement already satisfied: numpy>=1.19.0 in /usr/local/lib/python3.7/dist-packages (from sktime[all_extras]) (1.19.5)\n",
            "Requirement already satisfied: numba>=0.50 in /usr/local/lib/python3.7/dist-packages (from sktime[all_extras]) (0.51.2)\n",
            "Requirement already satisfied: statsmodels>=0.12.1 in /usr/local/lib/python3.7/dist-packages (from sktime[all_extras]) (0.12.2)\n",
            "Requirement already satisfied: pmdarima!=1.8.1,>=1.8.0; extra == \"all_extras\" in /usr/local/lib/python3.7/dist-packages (from sktime[all_extras]) (1.8.2)\n",
            "Requirement already satisfied: hcrystalball>=0.1.9; extra == \"all_extras\" in /usr/local/lib/python3.7/dist-packages (from sktime[all_extras]) (0.1.10)\n",
            "Requirement already satisfied: cython>=0.29.0; extra == \"all_extras\" in /usr/local/lib/python3.7/dist-packages (from sktime[all_extras]) (0.29.23)\n",
            "Requirement already satisfied: fbprophet>=0.7.1; extra == \"all_extras\" in /usr/local/lib/python3.7/dist-packages (from sktime[all_extras]) (0.7.1)\n",
            "Requirement already satisfied: catch22>=0.2.0; extra == \"all_extras\" in /usr/local/lib/python3.7/dist-packages (from sktime[all_extras]) (0.2.0)\n",
            "Requirement already satisfied: tsfresh>=0.17.0; extra == \"all_extras\" in /usr/local/lib/python3.7/dist-packages (from sktime[all_extras]) (0.18.0)\n",
            "Requirement already satisfied: seaborn>=0.11.0; extra == \"all_extras\" in /usr/local/lib/python3.7/dist-packages (from sktime[all_extras]) (0.11.1)\n",
            "Requirement already satisfied: tbats>=1.1.0; extra == \"all_extras\" in /usr/local/lib/python3.7/dist-packages (from sktime[all_extras]) (1.1.0)\n",
            "Requirement already satisfied: stumpy>=1.5.1; extra == \"all_extras\" in /usr/local/lib/python3.7/dist-packages (from sktime[all_extras]) (1.8.0)\n",
            "Requirement already satisfied: scikit-posthocs>=0.6.5; extra == \"all_extras\" in /usr/local/lib/python3.7/dist-packages (from sktime[all_extras]) (0.6.7)\n",
            "Requirement already satisfied: matplotlib>=3.3.2; extra == \"all_extras\" in /usr/local/lib/python3.7/dist-packages (from sktime[all_extras]) (3.3.4)\n",
            "Requirement already satisfied: pytz>=2017.2 in /usr/local/lib/python3.7/dist-packages (from pandas>=1.1.0->sktime[all_extras]) (2018.9)\n",
            "Requirement already satisfied: python-dateutil>=2.7.3 in /usr/local/lib/python3.7/dist-packages (from pandas>=1.1.0->sktime[all_extras]) (2.8.1)\n",
            "Requirement already satisfied: threadpoolctl>=2.0.0 in /usr/local/lib/python3.7/dist-packages (from scikit-learn>=0.24.0->sktime[all_extras]) (2.1.0)\n",
            "Requirement already satisfied: joblib>=0.11 in /usr/local/lib/python3.7/dist-packages (from scikit-learn>=0.24.0->sktime[all_extras]) (1.0.1)\n",
            "Requirement already satisfied: scipy>=0.19.1 in /usr/local/lib/python3.7/dist-packages (from scikit-learn>=0.24.0->sktime[all_extras]) (1.4.1)\n",
            "Requirement already satisfied: llvmlite<0.35,>=0.34.0.dev0 in /usr/local/lib/python3.7/dist-packages (from numba>=0.50->sktime[all_extras]) (0.34.0)\n",
            "Requirement already satisfied: setuptools in /usr/local/lib/python3.7/dist-packages (from numba>=0.50->sktime[all_extras]) (56.1.0)\n",
            "Requirement already satisfied: patsy>=0.5 in /usr/local/lib/python3.7/dist-packages (from statsmodels>=0.12.1->sktime[all_extras]) (0.5.1)\n",
            "Requirement already satisfied: urllib3 in /usr/local/lib/python3.7/dist-packages (from pmdarima!=1.8.1,>=1.8.0; extra == \"all_extras\"->sktime[all_extras]) (1.24.3)\n",
            "Requirement already satisfied: workalendar>=10.1 in /usr/local/lib/python3.7/dist-packages (from hcrystalball>=0.1.9; extra == \"all_extras\"->sktime[all_extras]) (15.3.0)\n",
            "Collecting cmdstanpy==0.9.5\n",
            "  Using cached https://files.pythonhosted.org/packages/e3/e2/204c9c6beaf9e05ad28bd589c154afff35dffa6166d76841d3c0dec6c1e3/cmdstanpy-0.9.5-py3-none-any.whl\n",
            "Requirement already satisfied: pystan>=2.14 in /usr/local/lib/python3.7/dist-packages (from fbprophet>=0.7.1; extra == \"all_extras\"->sktime[all_extras]) (2.19.1.1)\n",
            "Requirement already satisfied: LunarCalendar>=0.0.9 in /usr/local/lib/python3.7/dist-packages (from fbprophet>=0.7.1; extra == \"all_extras\"->sktime[all_extras]) (0.0.9)\n",
            "Requirement already satisfied: convertdate>=2.1.2 in /usr/local/lib/python3.7/dist-packages (from fbprophet>=0.7.1; extra == \"all_extras\"->sktime[all_extras]) (2.3.2)\n",
            "Requirement already satisfied: holidays>=0.10.2 in /usr/local/lib/python3.7/dist-packages (from fbprophet>=0.7.1; extra == \"all_extras\"->sktime[all_extras]) (0.10.5.2)\n",
            "Requirement already satisfied: setuptools-git>=1.2 in /usr/local/lib/python3.7/dist-packages (from fbprophet>=0.7.1; extra == \"all_extras\"->sktime[all_extras]) (1.2)\n",
            "Requirement already satisfied: tqdm>=4.36.1 in /usr/local/lib/python3.7/dist-packages (from fbprophet>=0.7.1; extra == \"all_extras\"->sktime[all_extras]) (4.41.1)\n",
            "Requirement already satisfied: dask[dataframe]>=2.9.0 in /usr/local/lib/python3.7/dist-packages (from tsfresh>=0.17.0; extra == \"all_extras\"->sktime[all_extras]) (2.12.0)\n",
            "Requirement already satisfied: matrixprofile>=1.1.10<2.0.0 in /usr/local/lib/python3.7/dist-packages (from tsfresh>=0.17.0; extra == \"all_extras\"->sktime[all_extras]) (1.1.10)\n",
            "Requirement already satisfied: requests>=2.9.1 in /usr/local/lib/python3.7/dist-packages (from tsfresh>=0.17.0; extra == \"all_extras\"->sktime[all_extras]) (2.23.0)\n",
            "Requirement already satisfied: distributed>=2.11.0 in /usr/local/lib/python3.7/dist-packages (from tsfresh>=0.17.0; extra == \"all_extras\"->sktime[all_extras]) (2021.5.1)\n",
            "Requirement already satisfied: pillow>=6.2.0 in /usr/local/lib/python3.7/dist-packages (from matplotlib>=3.3.2; extra == \"all_extras\"->sktime[all_extras]) (7.1.2)\n",
            "Requirement already satisfied: kiwisolver>=1.0.1 in /usr/local/lib/python3.7/dist-packages (from matplotlib>=3.3.2; extra == \"all_extras\"->sktime[all_extras]) (1.3.1)\n",
            "Requirement already satisfied: cycler>=0.10 in /usr/local/lib/python3.7/dist-packages (from matplotlib>=3.3.2; extra == \"all_extras\"->sktime[all_extras]) (0.10.0)\n",
            "Requirement already satisfied: pyparsing!=2.0.4,!=2.1.2,!=2.1.6,>=2.0.3 in /usr/local/lib/python3.7/dist-packages (from matplotlib>=3.3.2; extra == \"all_extras\"->sktime[all_extras]) (2.4.7)\n",
            "Requirement already satisfied: six>=1.5 in /usr/local/lib/python3.7/dist-packages (from python-dateutil>=2.7.3->pandas>=1.1.0->sktime[all_extras]) (1.15.0)\n",
            "Requirement already satisfied: lunardate in /usr/local/lib/python3.7/dist-packages (from workalendar>=10.1->hcrystalball>=0.1.9; extra == \"all_extras\"->sktime[all_extras]) (0.2.0)\n",
            "Requirement already satisfied: pyCalverter in /usr/local/lib/python3.7/dist-packages (from workalendar>=10.1->hcrystalball>=0.1.9; extra == \"all_extras\"->sktime[all_extras]) (1.6.1)\n",
            "Requirement already satisfied: backports.zoneinfo; python_version < \"3.9\" in /usr/local/lib/python3.7/dist-packages (from workalendar>=10.1->hcrystalball>=0.1.9; extra == \"all_extras\"->sktime[all_extras]) (0.2.1)\n",
            "Requirement already satisfied: pyluach in /usr/local/lib/python3.7/dist-packages (from workalendar>=10.1->hcrystalball>=0.1.9; extra == \"all_extras\"->sktime[all_extras]) (1.2.1)\n",
            "Requirement already satisfied: skyfield-data in /usr/local/lib/python3.7/dist-packages (from workalendar>=10.1->hcrystalball>=0.1.9; extra == \"all_extras\"->sktime[all_extras]) (3.0.0)\n",
            "Requirement already satisfied: skyfield in /usr/local/lib/python3.7/dist-packages (from workalendar>=10.1->hcrystalball>=0.1.9; extra == \"all_extras\"->sktime[all_extras]) (1.39)\n",
            "Requirement already satisfied: ephem>=3.7.5.3 in /usr/local/lib/python3.7/dist-packages (from LunarCalendar>=0.0.9->fbprophet>=0.7.1; extra == \"all_extras\"->sktime[all_extras]) (3.7.7.1)\n",
            "Requirement already satisfied: pymeeus<=1,>=0.3.13 in /usr/local/lib/python3.7/dist-packages (from convertdate>=2.1.2->fbprophet>=0.7.1; extra == \"all_extras\"->sktime[all_extras]) (0.5.11)\n",
            "Requirement already satisfied: korean-lunar-calendar in /usr/local/lib/python3.7/dist-packages (from holidays>=0.10.2->fbprophet>=0.7.1; extra == \"all_extras\"->sktime[all_extras]) (0.2.1)\n",
            "Requirement already satisfied: hijri-converter in /usr/local/lib/python3.7/dist-packages (from holidays>=0.10.2->fbprophet>=0.7.1; extra == \"all_extras\"->sktime[all_extras]) (2.1.1)\n",
            "Requirement already satisfied: partd>=0.3.10; extra == \"dataframe\" in /usr/local/lib/python3.7/dist-packages (from dask[dataframe]>=2.9.0->tsfresh>=0.17.0; extra == \"all_extras\"->sktime[all_extras]) (1.2.0)\n",
            "Requirement already satisfied: toolz>=0.7.3; extra == \"dataframe\" in /usr/local/lib/python3.7/dist-packages (from dask[dataframe]>=2.9.0->tsfresh>=0.17.0; extra == \"all_extras\"->sktime[all_extras]) (0.11.1)\n",
            "Requirement already satisfied: fsspec>=0.6.0; extra == \"dataframe\" in /usr/local/lib/python3.7/dist-packages (from dask[dataframe]>=2.9.0->tsfresh>=0.17.0; extra == \"all_extras\"->sktime[all_extras]) (2021.5.0)\n",
            "Requirement already satisfied: protobuf==3.11.2 in /usr/local/lib/python3.7/dist-packages (from matrixprofile>=1.1.10<2.0.0->tsfresh>=0.17.0; extra == \"all_extras\"->sktime[all_extras]) (3.11.2)\n",
            "Requirement already satisfied: certifi>=2017.4.17 in /usr/local/lib/python3.7/dist-packages (from requests>=2.9.1->tsfresh>=0.17.0; extra == \"all_extras\"->sktime[all_extras]) (2020.12.5)\n",
            "Requirement already satisfied: idna<3,>=2.5 in /usr/local/lib/python3.7/dist-packages (from requests>=2.9.1->tsfresh>=0.17.0; extra == \"all_extras\"->sktime[all_extras]) (2.10)\n",
            "Requirement already satisfied: chardet<4,>=3.0.2 in /usr/local/lib/python3.7/dist-packages (from requests>=2.9.1->tsfresh>=0.17.0; extra == \"all_extras\"->sktime[all_extras]) (3.0.4)\n",
            "Requirement already satisfied: psutil>=5.0 in /usr/local/lib/python3.7/dist-packages (from distributed>=2.11.0->tsfresh>=0.17.0; extra == \"all_extras\"->sktime[all_extras]) (5.4.8)\n",
            "Requirement already satisfied: click>=6.6 in /usr/local/lib/python3.7/dist-packages (from distributed>=2.11.0->tsfresh>=0.17.0; extra == \"all_extras\"->sktime[all_extras]) (7.1.2)\n",
            "Requirement already satisfied: tornado>=5; python_version < \"3.8\" in /usr/local/lib/python3.7/dist-packages (from distributed>=2.11.0->tsfresh>=0.17.0; extra == \"all_extras\"->sktime[all_extras]) (5.1.1)\n",
            "Requirement already satisfied: msgpack>=0.6.0 in /usr/local/lib/python3.7/dist-packages (from distributed>=2.11.0->tsfresh>=0.17.0; extra == \"all_extras\"->sktime[all_extras]) (1.0.2)\n",
            "Requirement already satisfied: sortedcontainers!=2.0.0,!=2.0.1 in /usr/local/lib/python3.7/dist-packages (from distributed>=2.11.0->tsfresh>=0.17.0; extra == \"all_extras\"->sktime[all_extras]) (2.4.0)\n",
            "Requirement already satisfied: pyyaml in /usr/local/lib/python3.7/dist-packages (from distributed>=2.11.0->tsfresh>=0.17.0; extra == \"all_extras\"->sktime[all_extras]) (3.13)\n",
            "Requirement already satisfied: tblib>=1.6.0 in /usr/local/lib/python3.7/dist-packages (from distributed>=2.11.0->tsfresh>=0.17.0; extra == \"all_extras\"->sktime[all_extras]) (1.7.0)\n",
            "Requirement already satisfied: cloudpickle>=1.5.0 in /usr/local/lib/python3.7/dist-packages (from distributed>=2.11.0->tsfresh>=0.17.0; extra == \"all_extras\"->sktime[all_extras]) (1.6.0)\n",
            "Requirement already satisfied: zict>=0.1.3 in /usr/local/lib/python3.7/dist-packages (from distributed>=2.11.0->tsfresh>=0.17.0; extra == \"all_extras\"->sktime[all_extras]) (2.0.0)\n",
            "Requirement already satisfied: sgp4>=2.2 in /usr/local/lib/python3.7/dist-packages (from skyfield->workalendar>=10.1->hcrystalball>=0.1.9; extra == \"all_extras\"->sktime[all_extras]) (2.19)\n",
            "Requirement already satisfied: jplephem>=2.13 in /usr/local/lib/python3.7/dist-packages (from skyfield->workalendar>=10.1->hcrystalball>=0.1.9; extra == \"all_extras\"->sktime[all_extras]) (2.15)\n",
            "Requirement already satisfied: locket in /usr/local/lib/python3.7/dist-packages (from partd>=0.3.10; extra == \"dataframe\"->dask[dataframe]>=2.9.0->tsfresh>=0.17.0; extra == \"all_extras\"->sktime[all_extras]) (0.2.1)\n",
            "Requirement already satisfied: heapdict in /usr/local/lib/python3.7/dist-packages (from zict>=0.1.3->distributed>=2.11.0->tsfresh>=0.17.0; extra == \"all_extras\"->sktime[all_extras]) (1.0.1)\n",
            "\u001b[31mERROR: prophet 1.0.1 has requirement cmdstanpy==0.9.68, but you'll have cmdstanpy 0.9.5 which is incompatible.\u001b[0m\n",
            "Installing collected packages: cmdstanpy\n",
            "  Found existing installation: cmdstanpy 0.9.68\n",
            "    Uninstalling cmdstanpy-0.9.68:\n",
            "      Successfully uninstalled cmdstanpy-0.9.68\n",
            "Successfully installed cmdstanpy-0.9.5\n"
          ],
          "name": "stdout"
        }
      ]
    },
    {
      "cell_type": "code",
      "metadata": {
        "id": "37r09zfzFXgE"
      },
      "source": [
        "%matplotlib inline\n",
        "\n",
        "from IPython import display\n",
        "import matplotlib.pyplot as plt\n",
        "\n",
        "import pandas as pd\n",
        "import numpy as np"
      ],
      "execution_count": 2,
      "outputs": []
    },
    {
      "cell_type": "markdown",
      "metadata": {
        "id": "CL4IbYsbH_EW"
      },
      "source": [
        "## Задание 1 (2 балла). Поиск и предобработка данных.\n",
        "\n",
        "В этом задании Вам необходимо _самостоятельно_ найти два временных ряда: один должен обладать месячной частотой, а второй — дневной.\n",
        "\n",
        "Мы советуем поискать соответствующие временные ряды на платформе [kaggle](https://www.kaggle.com/datasets) или же взять один из [популярных](https://medium.com/analytics-vidhya/10-time-series-datasets-for-practice-d14fec9f21bc) временных рядов для анализа. \n",
        "\n",
        "**Не рекоммендуется** использовать в качестве временных рядов цены финансовых инструментов в силу плохой предсказуемости изменения цен. **Запрещается** использовать готовые наборы данных из библиотек для анализа временных рядов, например, `from orbit.utils.dataset import load_iclaims`.\n",
        "\n",
        "![bitcoin](https://avatars.mds.yandex.net/get-zen_doc/3417386/pub_6017dd4b8d30cb1780864ae0_6017f4aa8d30cb1780bf66ce/scale_1200)\n",
        "\n",
        "\n",
        "\n",
        "\n",
        "В качестве отчета по заданию:\n",
        "\n",
        "* Опишите источники временных рядов (ссылки на страницы скачивания). В случае, если данные требовали дополнительной обработки, приведите код этой обработки, загрузите данные в личное облачное хранилище и приведите ссылку на скачивание. Процесс получения временных рядов должен быть **четко** расписан и полностью **воспроизводиться**. \n",
        "\n",
        "* Приведите код считывания временных рядов из файлов и разделения на train/test. Соотношение размеров train/test на Ваше усмотрение, но мы советуем Вам выбрать 80% на 20%, если в test остаётся хотя бы пара лет наблюдений.\n",
        "\n"
      ]
    },
    {
      "cell_type": "markdown",
      "metadata": {
        "id": "Hfn5wuyhiwpY"
      },
      "source": [
        "Дневные данные: https://www.kaggle.com/sumanthvrao/daily-climate-time-series-data\n",
        "\n",
        "Месячные данные: https://github.com/rishabh89007/Time_Series_Datasets"
      ]
    },
    {
      "cell_type": "code",
      "metadata": {
        "id": "V4tREl4VFXgG",
        "colab": {
          "base_uri": "https://localhost:8080/"
        },
        "outputId": "fb004dbe-75a9-46a6-fc21-4ab743363791"
      },
      "source": [
        "# скачаем данные\n",
        "!wget https://www.dropbox.com/s/amg0n9icv5z16hl/DailyDelhiClimateTrain.csv\n",
        "!git clone https://github.com/rishabh89007/Time_Series_Datasets.git"
      ],
      "execution_count": 3,
      "outputs": [
        {
          "output_type": "stream",
          "text": [
            "--2021-06-02 13:48:26--  https://www.dropbox.com/s/amg0n9icv5z16hl/DailyDelhiClimateTrain.csv\n",
            "Resolving www.dropbox.com (www.dropbox.com)... 162.125.5.18, 2620:100:601d:18::a27d:512\n",
            "Connecting to www.dropbox.com (www.dropbox.com)|162.125.5.18|:443... connected.\n",
            "HTTP request sent, awaiting response... 301 Moved Permanently\n",
            "Location: /s/raw/amg0n9icv5z16hl/DailyDelhiClimateTrain.csv [following]\n",
            "--2021-06-02 13:48:26--  https://www.dropbox.com/s/raw/amg0n9icv5z16hl/DailyDelhiClimateTrain.csv\n",
            "Reusing existing connection to www.dropbox.com:443.\n",
            "HTTP request sent, awaiting response... 302 Found\n",
            "Location: https://uc64a7e5993b184b8381039b4c9b.dl.dropboxusercontent.com/cd/0/inline/BPpUp5w1QZ9wU49pClq4icFGr0TJ42BDL75DDKrWEWk6jMb-F_JlfYhFq1RzZWbFywvW8F_cKaYljbN1qplBi3nG9cmwxi1np72mmy-WiTYbyRwjUtLFS7Lfb_g4st3aPMEFc1H9oggj7eSVz-yvNucT/file# [following]\n",
            "--2021-06-02 13:48:26--  https://uc64a7e5993b184b8381039b4c9b.dl.dropboxusercontent.com/cd/0/inline/BPpUp5w1QZ9wU49pClq4icFGr0TJ42BDL75DDKrWEWk6jMb-F_JlfYhFq1RzZWbFywvW8F_cKaYljbN1qplBi3nG9cmwxi1np72mmy-WiTYbyRwjUtLFS7Lfb_g4st3aPMEFc1H9oggj7eSVz-yvNucT/file\n",
            "Resolving uc64a7e5993b184b8381039b4c9b.dl.dropboxusercontent.com (uc64a7e5993b184b8381039b4c9b.dl.dropboxusercontent.com)... 162.125.5.15, 2620:100:601d:15::a27d:50f\n",
            "Connecting to uc64a7e5993b184b8381039b4c9b.dl.dropboxusercontent.com (uc64a7e5993b184b8381039b4c9b.dl.dropboxusercontent.com)|162.125.5.15|:443... connected.\n",
            "HTTP request sent, awaiting response... 200 OK\n",
            "Length: 78199 (76K) [text/plain]\n",
            "Saving to: ‘DailyDelhiClimateTrain.csv.12’\n",
            "\n",
            "DailyDelhiClimateTr 100%[===================>]  76.37K  --.-KB/s    in 0.04s   \n",
            "\n",
            "2021-06-02 13:48:27 (2.09 MB/s) - ‘DailyDelhiClimateTrain.csv.12’ saved [78199/78199]\n",
            "\n",
            "fatal: destination path 'Time_Series_Datasets' already exists and is not an empty directory.\n"
          ],
          "name": "stdout"
        }
      ]
    },
    {
      "cell_type": "code",
      "metadata": {
        "id": "kCsOPjrAgs62"
      },
      "source": [
        "# считаем файлы\n",
        "ts1 = pd.read_csv('DailyDelhiClimateTrain.csv')\n",
        "ts2 = pd.read_csv('/content/Time_Series_Datasets/Brent Spot Price.csv')"
      ],
      "execution_count": 4,
      "outputs": []
    },
    {
      "cell_type": "code",
      "metadata": {
        "id": "impKodj2lX3P"
      },
      "source": [
        "ts2.columns = ['date', 'brent']"
      ],
      "execution_count": 5,
      "outputs": []
    },
    {
      "cell_type": "code",
      "metadata": {
        "id": "pqqjNGBglE6g"
      },
      "source": [
        "ts1.date = pd.DatetimeIndex(ts1.date) \n",
        "ts2.date = pd.DatetimeIndex(ts2.date)"
      ],
      "execution_count": 6,
      "outputs": []
    },
    {
      "cell_type": "code",
      "metadata": {
        "colab": {
          "base_uri": "https://localhost:8080/",
          "height": 206
        },
        "id": "Kxa2_S7P1itV",
        "outputId": "33b6cefa-dd10-4f83-9bed-1b4e37f139dc"
      },
      "source": [
        "ts2.head()"
      ],
      "execution_count": 7,
      "outputs": [
        {
          "output_type": "execute_result",
          "data": {
            "text/html": [
              "<div>\n",
              "<style scoped>\n",
              "    .dataframe tbody tr th:only-of-type {\n",
              "        vertical-align: middle;\n",
              "    }\n",
              "\n",
              "    .dataframe tbody tr th {\n",
              "        vertical-align: top;\n",
              "    }\n",
              "\n",
              "    .dataframe thead th {\n",
              "        text-align: right;\n",
              "    }\n",
              "</style>\n",
              "<table border=\"1\" class=\"dataframe\">\n",
              "  <thead>\n",
              "    <tr style=\"text-align: right;\">\n",
              "      <th></th>\n",
              "      <th>date</th>\n",
              "      <th>brent</th>\n",
              "    </tr>\n",
              "  </thead>\n",
              "  <tbody>\n",
              "    <tr>\n",
              "      <th>0</th>\n",
              "      <td>1990-01-01</td>\n",
              "      <td>21.251</td>\n",
              "    </tr>\n",
              "    <tr>\n",
              "      <th>1</th>\n",
              "      <td>1990-02-01</td>\n",
              "      <td>19.813</td>\n",
              "    </tr>\n",
              "    <tr>\n",
              "      <th>2</th>\n",
              "      <td>1990-03-01</td>\n",
              "      <td>18.387</td>\n",
              "    </tr>\n",
              "    <tr>\n",
              "      <th>3</th>\n",
              "      <td>1990-04-01</td>\n",
              "      <td>16.612</td>\n",
              "    </tr>\n",
              "    <tr>\n",
              "      <th>4</th>\n",
              "      <td>1990-05-01</td>\n",
              "      <td>16.352</td>\n",
              "    </tr>\n",
              "  </tbody>\n",
              "</table>\n",
              "</div>"
            ],
            "text/plain": [
              "        date   brent\n",
              "0 1990-01-01  21.251\n",
              "1 1990-02-01  19.813\n",
              "2 1990-03-01  18.387\n",
              "3 1990-04-01  16.612\n",
              "4 1990-05-01  16.352"
            ]
          },
          "metadata": {
            "tags": []
          },
          "execution_count": 7
        }
      ]
    },
    {
      "cell_type": "code",
      "metadata": {
        "id": "lX3plyGFiUFV"
      },
      "source": [
        "ts1 = ts1.sort_values(by = \"date\")\n",
        "ts1.index = pd.PeriodIndex(ts1.date, freq='D')\n",
        "ts2 = ts2.sort_values(by = \"date\")\n",
        "ts2.index = pd.PeriodIndex(ts2.date, freq='M')"
      ],
      "execution_count": 8,
      "outputs": []
    },
    {
      "cell_type": "code",
      "metadata": {
        "id": "3edcGHDaxmdJ"
      },
      "source": [
        "ts2.date = ts2.date.asfreq('M')"
      ],
      "execution_count": 9,
      "outputs": []
    },
    {
      "cell_type": "code",
      "metadata": {
        "id": "ucO_R59vm08k"
      },
      "source": [
        "testsize1 = int(len(ts1) * 0.2)\n",
        "testsize2 = int(len(ts2) * 0.2)\n",
        "ts1_train = ts1[:-testsize1]\n",
        "ts1_test = ts1[-testsize1:]\n",
        "ts2_train = ts2[:-testsize2]\n",
        "ts2_test = ts2[-testsize2:]"
      ],
      "execution_count": 10,
      "outputs": []
    },
    {
      "cell_type": "code",
      "metadata": {
        "colab": {
          "base_uri": "https://localhost:8080/",
          "height": 238
        },
        "id": "DKMtY_k20WMv",
        "outputId": "060a07fc-2349-4707-f430-9cff2c44fd59"
      },
      "source": [
        "ts2.head()"
      ],
      "execution_count": 11,
      "outputs": [
        {
          "output_type": "execute_result",
          "data": {
            "text/html": [
              "<div>\n",
              "<style scoped>\n",
              "    .dataframe tbody tr th:only-of-type {\n",
              "        vertical-align: middle;\n",
              "    }\n",
              "\n",
              "    .dataframe tbody tr th {\n",
              "        vertical-align: top;\n",
              "    }\n",
              "\n",
              "    .dataframe thead th {\n",
              "        text-align: right;\n",
              "    }\n",
              "</style>\n",
              "<table border=\"1\" class=\"dataframe\">\n",
              "  <thead>\n",
              "    <tr style=\"text-align: right;\">\n",
              "      <th></th>\n",
              "      <th>date</th>\n",
              "      <th>brent</th>\n",
              "    </tr>\n",
              "    <tr>\n",
              "      <th>date</th>\n",
              "      <th></th>\n",
              "      <th></th>\n",
              "    </tr>\n",
              "  </thead>\n",
              "  <tbody>\n",
              "    <tr>\n",
              "      <th>1990-01</th>\n",
              "      <td>1990-01-01</td>\n",
              "      <td>21.251</td>\n",
              "    </tr>\n",
              "    <tr>\n",
              "      <th>1990-02</th>\n",
              "      <td>1990-02-01</td>\n",
              "      <td>19.813</td>\n",
              "    </tr>\n",
              "    <tr>\n",
              "      <th>1990-03</th>\n",
              "      <td>1990-03-01</td>\n",
              "      <td>18.387</td>\n",
              "    </tr>\n",
              "    <tr>\n",
              "      <th>1990-04</th>\n",
              "      <td>1990-04-01</td>\n",
              "      <td>16.612</td>\n",
              "    </tr>\n",
              "    <tr>\n",
              "      <th>1990-05</th>\n",
              "      <td>1990-05-01</td>\n",
              "      <td>16.352</td>\n",
              "    </tr>\n",
              "  </tbody>\n",
              "</table>\n",
              "</div>"
            ],
            "text/plain": [
              "              date   brent\n",
              "date                      \n",
              "1990-01 1990-01-01  21.251\n",
              "1990-02 1990-02-01  19.813\n",
              "1990-03 1990-03-01  18.387\n",
              "1990-04 1990-04-01  16.612\n",
              "1990-05 1990-05-01  16.352"
            ]
          },
          "metadata": {
            "tags": []
          },
          "execution_count": 11
        }
      ]
    },
    {
      "cell_type": "code",
      "metadata": {
        "colab": {
          "base_uri": "https://localhost:8080/",
          "height": 238
        },
        "id": "GP96a1xX0aCO",
        "outputId": "0be951df-b1b5-495e-db8c-b95e823728a6"
      },
      "source": [
        "ts2.tail()"
      ],
      "execution_count": 12,
      "outputs": [
        {
          "output_type": "execute_result",
          "data": {
            "text/html": [
              "<div>\n",
              "<style scoped>\n",
              "    .dataframe tbody tr th:only-of-type {\n",
              "        vertical-align: middle;\n",
              "    }\n",
              "\n",
              "    .dataframe tbody tr th {\n",
              "        vertical-align: top;\n",
              "    }\n",
              "\n",
              "    .dataframe thead th {\n",
              "        text-align: right;\n",
              "    }\n",
              "</style>\n",
              "<table border=\"1\" class=\"dataframe\">\n",
              "  <thead>\n",
              "    <tr style=\"text-align: right;\">\n",
              "      <th></th>\n",
              "      <th>date</th>\n",
              "      <th>brent</th>\n",
              "    </tr>\n",
              "    <tr>\n",
              "      <th>date</th>\n",
              "      <th></th>\n",
              "      <th></th>\n",
              "    </tr>\n",
              "  </thead>\n",
              "  <tbody>\n",
              "    <tr>\n",
              "      <th>2022-08</th>\n",
              "      <td>2022-08-01</td>\n",
              "      <td>60.0</td>\n",
              "    </tr>\n",
              "    <tr>\n",
              "      <th>2022-09</th>\n",
              "      <td>2022-09-01</td>\n",
              "      <td>60.0</td>\n",
              "    </tr>\n",
              "    <tr>\n",
              "      <th>2022-10</th>\n",
              "      <td>2022-10-01</td>\n",
              "      <td>61.0</td>\n",
              "    </tr>\n",
              "    <tr>\n",
              "      <th>2022-11</th>\n",
              "      <td>2022-11-01</td>\n",
              "      <td>61.0</td>\n",
              "    </tr>\n",
              "    <tr>\n",
              "      <th>2022-12</th>\n",
              "      <td>2022-12-01</td>\n",
              "      <td>61.0</td>\n",
              "    </tr>\n",
              "  </tbody>\n",
              "</table>\n",
              "</div>"
            ],
            "text/plain": [
              "              date  brent\n",
              "date                     \n",
              "2022-08 2022-08-01   60.0\n",
              "2022-09 2022-09-01   60.0\n",
              "2022-10 2022-10-01   61.0\n",
              "2022-11 2022-11-01   61.0\n",
              "2022-12 2022-12-01   61.0"
            ]
          },
          "metadata": {
            "tags": []
          },
          "execution_count": 12
        }
      ]
    },
    {
      "cell_type": "markdown",
      "metadata": {
        "id": "lotD7Qf7kgYD"
      },
      "source": [
        "## Задание 2. Анализ временных рядов (1 балла).\n",
        "\n",
        "* Отрисуйте временные ряды и визуально сделайте различимым разбиение на выборки — либо вертикальной чертой, либо разными цветами.\n",
        "\n",
        "* Постройте графики автокорреляционных функций для выбранных временных рядов. Прокомментируйте их: являются ли временные ряды сезонными? Видна ли на графиках длина сезонной составляющей ряда?\n",
        "\n",
        "* В случае присутствия сезонности, разбейте временной ряд на повторяющиеся фрагменты и нарисуйте их наложенными для иллюстрации этой сезонности."
      ]
    },
    {
      "cell_type": "code",
      "metadata": {
        "id": "-OQ0Jnp0eNrA",
        "colab": {
          "base_uri": "https://localhost:8080/",
          "height": 279
        },
        "outputId": "cb2dd884-1965-404f-b038-79a7953f5d2a"
      },
      "source": [
        "# отрисуем временные ряды\n",
        "plt.figure(figsize=(12, 4))\n",
        "plt.plot(ts2.date, ts2.brent)\n",
        "plt.axvline(x = ts2.date[int(len(ts2) * 0.8)], color = 'red')\n",
        "plt.xlabel('Time')\n",
        "plt.show()"
      ],
      "execution_count": 13,
      "outputs": [
        {
          "output_type": "display_data",
          "data": {
            "image/png": "[encoded data removed]",
            "text/plain": [
              "<Figure size 864x288 with 1 Axes>"
            ]
          },
          "metadata": {
            "tags": [],
            "needs_background": "light"
          }
        }
      ]
    },
    {
      "cell_type": "code",
      "metadata": {
        "colab": {
          "base_uri": "https://localhost:8080/",
          "height": 238
        },
        "id": "nRbObxK7pQsR",
        "outputId": "bca5063a-7f95-454b-d1d0-b806c7c570f1"
      },
      "source": [
        "ts1.head()"
      ],
      "execution_count": 14,
      "outputs": [
        {
          "output_type": "execute_result",
          "data": {
            "text/html": [
              "<div>\n",
              "<style scoped>\n",
              "    .dataframe tbody tr th:only-of-type {\n",
              "        vertical-align: middle;\n",
              "    }\n",
              "\n",
              "    .dataframe tbody tr th {\n",
              "        vertical-align: top;\n",
              "    }\n",
              "\n",
              "    .dataframe thead th {\n",
              "        text-align: right;\n",
              "    }\n",
              "</style>\n",
              "<table border=\"1\" class=\"dataframe\">\n",
              "  <thead>\n",
              "    <tr style=\"text-align: right;\">\n",
              "      <th></th>\n",
              "      <th>date</th>\n",
              "      <th>meantemp</th>\n",
              "      <th>humidity</th>\n",
              "      <th>wind_speed</th>\n",
              "      <th>meanpressure</th>\n",
              "    </tr>\n",
              "    <tr>\n",
              "      <th>date</th>\n",
              "      <th></th>\n",
              "      <th></th>\n",
              "      <th></th>\n",
              "      <th></th>\n",
              "      <th></th>\n",
              "    </tr>\n",
              "  </thead>\n",
              "  <tbody>\n",
              "    <tr>\n",
              "      <th>2013-01-01</th>\n",
              "      <td>2013-01-01</td>\n",
              "      <td>10.000000</td>\n",
              "      <td>84.500000</td>\n",
              "      <td>0.000000</td>\n",
              "      <td>1015.666667</td>\n",
              "    </tr>\n",
              "    <tr>\n",
              "      <th>2013-01-02</th>\n",
              "      <td>2013-01-02</td>\n",
              "      <td>7.400000</td>\n",
              "      <td>92.000000</td>\n",
              "      <td>2.980000</td>\n",
              "      <td>1017.800000</td>\n",
              "    </tr>\n",
              "    <tr>\n",
              "      <th>2013-01-03</th>\n",
              "      <td>2013-01-03</td>\n",
              "      <td>7.166667</td>\n",
              "      <td>87.000000</td>\n",
              "      <td>4.633333</td>\n",
              "      <td>1018.666667</td>\n",
              "    </tr>\n",
              "    <tr>\n",
              "      <th>2013-01-04</th>\n",
              "      <td>2013-01-04</td>\n",
              "      <td>8.666667</td>\n",
              "      <td>71.333333</td>\n",
              "      <td>1.233333</td>\n",
              "      <td>1017.166667</td>\n",
              "    </tr>\n",
              "    <tr>\n",
              "      <th>2013-01-05</th>\n",
              "      <td>2013-01-05</td>\n",
              "      <td>6.000000</td>\n",
              "      <td>86.833333</td>\n",
              "      <td>3.700000</td>\n",
              "      <td>1016.500000</td>\n",
              "    </tr>\n",
              "  </tbody>\n",
              "</table>\n",
              "</div>"
            ],
            "text/plain": [
              "                 date   meantemp   humidity  wind_speed  meanpressure\n",
              "date                                                                 \n",
              "2013-01-01 2013-01-01  10.000000  84.500000    0.000000   1015.666667\n",
              "2013-01-02 2013-01-02   7.400000  92.000000    2.980000   1017.800000\n",
              "2013-01-03 2013-01-03   7.166667  87.000000    4.633333   1018.666667\n",
              "2013-01-04 2013-01-04   8.666667  71.333333    1.233333   1017.166667\n",
              "2013-01-05 2013-01-05   6.000000  86.833333    3.700000   1016.500000"
            ]
          },
          "metadata": {
            "tags": []
          },
          "execution_count": 14
        }
      ]
    },
    {
      "cell_type": "code",
      "metadata": {
        "colab": {
          "base_uri": "https://localhost:8080/",
          "height": 281
        },
        "id": "NVguh3nEpOIx",
        "outputId": "2fd1f7c0-2639-45ae-b584-e2eb70a28bd4"
      },
      "source": [
        "plt.figure(figsize=(12, 4))\n",
        "plt.plot(ts1.date, ts1.meantemp)\n",
        "plt.axvline(x = ts1.date[int(len(ts1) * 0.8)], color = 'red')\n",
        "plt.xlabel('Time')\n",
        "plt.show()"
      ],
      "execution_count": 15,
      "outputs": [
        {
          "output_type": "display_data",
          "data": {
            "image/png": "[encoded data removed]",
            "text/plain": [
              "<Figure size 864x288 with 1 Axes>"
            ]
          },
          "metadata": {
            "tags": [],
            "needs_background": "light"
          }
        }
      ]
    },
    {
      "cell_type": "code",
      "metadata": {
        "id": "1GITHbTNe5MC",
        "colab": {
          "base_uri": "https://localhost:8080/",
          "height": 293
        },
        "outputId": "e0338708-f596-4a3f-a538-64d4b826e8ba"
      },
      "source": [
        "# посчитайте и нарисуйте график автокорреляционной функции\n",
        "# hint, используйте для этого np.correlate(..., mode='full')\n",
        "#https://stackoverflow.com/questions/643699/how-can-i-use-numpy-correlate-to-do-autocorrelation\n",
        "ts1_autocorr = np.correlate(ts1['meantemp'], ts1['meantemp'], mode = 'full')\n",
        "plt.bar(range(0, len(ts1_autocorr[ts1_autocorr.size // 2:])), ts1_autocorr[ts1_autocorr.size // 2:])"
      ],
      "execution_count": 16,
      "outputs": [
        {
          "output_type": "execute_result",
          "data": {
            "text/plain": [
              "<BarContainer object of 1462 artists>"
            ]
          },
          "metadata": {
            "tags": []
          },
          "execution_count": 16
        },
        {
          "output_type": "display_data",
          "data": {
            "image/png": "[encoded data removed]",
            "text/plain": [
              "<Figure size 432x288 with 1 Axes>"
            ]
          },
          "metadata": {
            "tags": [],
            "needs_background": "light"
          }
        }
      ]
    },
    {
      "cell_type": "code",
      "metadata": {
        "colab": {
          "base_uri": "https://localhost:8080/",
          "height": 238
        },
        "id": "UFdp3DcTs16I",
        "outputId": "01daab7d-7559-4575-b000-cdc78783bc57"
      },
      "source": [
        "ts2.head()"
      ],
      "execution_count": 17,
      "outputs": [
        {
          "output_type": "execute_result",
          "data": {
            "text/html": [
              "<div>\n",
              "<style scoped>\n",
              "    .dataframe tbody tr th:only-of-type {\n",
              "        vertical-align: middle;\n",
              "    }\n",
              "\n",
              "    .dataframe tbody tr th {\n",
              "        vertical-align: top;\n",
              "    }\n",
              "\n",
              "    .dataframe thead th {\n",
              "        text-align: right;\n",
              "    }\n",
              "</style>\n",
              "<table border=\"1\" class=\"dataframe\">\n",
              "  <thead>\n",
              "    <tr style=\"text-align: right;\">\n",
              "      <th></th>\n",
              "      <th>date</th>\n",
              "      <th>brent</th>\n",
              "    </tr>\n",
              "    <tr>\n",
              "      <th>date</th>\n",
              "      <th></th>\n",
              "      <th></th>\n",
              "    </tr>\n",
              "  </thead>\n",
              "  <tbody>\n",
              "    <tr>\n",
              "      <th>1990-01</th>\n",
              "      <td>1990-01-01</td>\n",
              "      <td>21.251</td>\n",
              "    </tr>\n",
              "    <tr>\n",
              "      <th>1990-02</th>\n",
              "      <td>1990-02-01</td>\n",
              "      <td>19.813</td>\n",
              "    </tr>\n",
              "    <tr>\n",
              "      <th>1990-03</th>\n",
              "      <td>1990-03-01</td>\n",
              "      <td>18.387</td>\n",
              "    </tr>\n",
              "    <tr>\n",
              "      <th>1990-04</th>\n",
              "      <td>1990-04-01</td>\n",
              "      <td>16.612</td>\n",
              "    </tr>\n",
              "    <tr>\n",
              "      <th>1990-05</th>\n",
              "      <td>1990-05-01</td>\n",
              "      <td>16.352</td>\n",
              "    </tr>\n",
              "  </tbody>\n",
              "</table>\n",
              "</div>"
            ],
            "text/plain": [
              "              date   brent\n",
              "date                      \n",
              "1990-01 1990-01-01  21.251\n",
              "1990-02 1990-02-01  19.813\n",
              "1990-03 1990-03-01  18.387\n",
              "1990-04 1990-04-01  16.612\n",
              "1990-05 1990-05-01  16.352"
            ]
          },
          "metadata": {
            "tags": []
          },
          "execution_count": 17
        }
      ]
    },
    {
      "cell_type": "code",
      "metadata": {
        "colab": {
          "base_uri": "https://localhost:8080/",
          "height": 293
        },
        "id": "LWCIciHasrVa",
        "outputId": "3cca406d-18db-4a6f-a947-0eff0d77b8d4"
      },
      "source": [
        "ts2_autocorr = np.correlate(ts2['brent'], ts2['brent'], mode = 'full')\n",
        "plt.bar(range(0, len(ts2_autocorr[ts2_autocorr.size // 2:])), ts2_autocorr[ts2_autocorr.size // 2:])"
      ],
      "execution_count": 18,
      "outputs": [
        {
          "output_type": "execute_result",
          "data": {
            "text/plain": [
              "<BarContainer object of 396 artists>"
            ]
          },
          "metadata": {
            "tags": []
          },
          "execution_count": 18
        },
        {
          "output_type": "display_data",
          "data": {
            "image/png": "[encoded data removed]",
            "text/plain": [
              "<Figure size 432x288 with 1 Axes>"
            ]
          },
          "metadata": {
            "tags": [],
            "needs_background": "light"
          }
        }
      ]
    },
    {
      "cell_type": "code",
      "metadata": {
        "id": "1wKGSLD3fkJg",
        "colab": {
          "base_uri": "https://localhost:8080/",
          "height": 545
        },
        "outputId": "1acc7958-32cc-410f-9b38-d4c7ca4dff26"
      },
      "source": [
        "# разбейте временной ряд на повторяющиеся участки по длине сезонной составляющей и нарисуйте их наложенными\n",
        "def season_split(ts, season = 365, data_col = 'meantemp', title = 'ts1'):\n",
        "    plt.figure(figsize=(12, 4))\n",
        "    plt.title(title)\n",
        "    for i in range(0, len(ts), season):\n",
        "        plt.plot(ts[i:i+season][data_col].values)\n",
        "    \n",
        "    plt.show()\n",
        "\n",
        "season_split(ts1, season = 365, title = 'ts1')\n",
        "season_split(ts2, season = 12, data_col = 'brent', title = 'ts2')"
      ],
      "execution_count": 19,
      "outputs": [
        {
          "output_type": "display_data",
          "data": {
            "image/png": "[encoded data removed]",
            "text/plain": [
              "<Figure size 864x288 with 1 Axes>"
            ]
          },
          "metadata": {
            "tags": [],
            "needs_background": "light"
          }
        },
        {
          "output_type": "display_data",
          "data": {
            "image/png": "[encoded data removed]",
            "text/plain": [
              "<Figure size 864x288 with 1 Axes>"
            ]
          },
          "metadata": {
            "tags": [],
            "needs_background": "light"
          }
        }
      ]
    },
    {
      "cell_type": "markdown",
      "metadata": {
        "id": "5G8-l8yuRNLL"
      },
      "source": [
        "## Задание 3. Предсказание месячного временного ряда (4.5 балла).\n",
        "\n",
        "В этом задании Вам предстоит попробовать предсказать месячный временной несколькими готовыми моделями со скользящим или растущим окном и выбрать среди них наилучшую.\n",
        "\n",
        "В качестве метрики сравнения используйте MAE между истинными и предсказанными значениями ряда на тестовом отрезке.\n"
      ]
    },
    {
      "cell_type": "markdown",
      "metadata": {
        "id": "dCrUK4uqjm5r"
      },
      "source": [
        "### NaiveForecaster из sktime (0.5 балл).\n",
        "\n",
        "Посчитайте предсказания следующими двумя наивными способами:\n",
        "\n",
        "* $\\hat{y}_{t+1} = y_{t}$\n",
        "* $\\hat{y}_{t+1} = y_{t-seasonality+1}$"
      ]
    },
    {
      "cell_type": "code",
      "metadata": {
        "id": "mD41z3_IvL-O"
      },
      "source": [
        "# change format for sktime\n",
        "from sktime.forecasting.base import ForecastingHorizon\n",
        "train_ts2 = pd.Series(data=ts2_train['brent'].values, index=ts2_train.index)\n",
        "test_ts2 = pd.Series(data=ts2_test['brent'].values, index=ts2_test.index)\n",
        "fh = ForecastingHorizon(test_ts2.index, is_relative=False)"
      ],
      "execution_count": 20,
      "outputs": []
    },
    {
      "cell_type": "code",
      "metadata": {
        "id": "_IoFNGRekGUB",
        "colab": {
          "base_uri": "https://localhost:8080/"
        },
        "outputId": "03a471e7-d2ec-4cdf-e49b-ec29751a0088"
      },
      "source": [
        "from sktime.forecasting.naive import NaiveForecaster\n",
        "\n",
        "# ваш код обучения моделей здесь\n",
        "naiveforecaster = NaiveForecaster()\n",
        "naiveforecaster.fit(train_ts2)"
      ],
      "execution_count": 21,
      "outputs": [
        {
          "output_type": "execute_result",
          "data": {
            "text/plain": [
              "NaiveForecaster()"
            ]
          },
          "metadata": {
            "tags": []
          },
          "execution_count": 21
        }
      ]
    },
    {
      "cell_type": "code",
      "metadata": {
        "id": "yRN0neLxkLyF",
        "colab": {
          "base_uri": "https://localhost:8080/"
        },
        "outputId": "317f1f04-b641-4098-af30-556eaf1ddc65"
      },
      "source": [
        "# посчитайте метрики на test\n",
        "from sklearn.metrics import mean_absolute_error\n",
        "y_pred = naiveforecaster.predict(fh)\n",
        "mean_absolute_error(ts2_test.brent, y_pred)"
      ],
      "execution_count": 22,
      "outputs": [
        {
          "output_type": "execute_result",
          "data": {
            "text/plain": [
              "13.649645569620258"
            ]
          },
          "metadata": {
            "tags": []
          },
          "execution_count": 22
        }
      ]
    },
    {
      "cell_type": "markdown",
      "metadata": {
        "id": "y0H3pYCmkRJB"
      },
      "source": [
        "### ARIMA/AutoArima (1 балл).\n",
        "\n",
        "Обучите из библиотеки `sktime` модели:\n",
        "\n",
        "* SARIMA(1, 1, 1)(1, 0, 0)[12] (`ARIMA` в `sktime`)\n",
        "* Алгоритм Хиндмана-Хандакара подбора SARIMA (`AutoARIMA` в `sktime`)"
      ]
    },
    {
      "cell_type": "code",
      "metadata": {
        "id": "PJZdDAP5kxKD",
        "colab": {
          "base_uri": "https://localhost:8080/"
        },
        "outputId": "10c8cfa4-6f4d-4685-c808-da1824d3a328"
      },
      "source": [
        "from sktime.forecasting.arima import ARIMA, AutoARIMA\n",
        "\n",
        "# ваш код обучения моделей здесь\n",
        "sarima = ARIMA(order = (1, 1, 1), seasonal_order = (1, 0, 0, 12))\n",
        "sarima.fit(train_ts2)\n",
        "autoarima = AutoARIMA()\n",
        "autoarima.fit(train_ts2)"
      ],
      "execution_count": 23,
      "outputs": [
        {
          "output_type": "stream",
          "text": [
            "/usr/local/lib/python3.7/dist-packages/statsmodels/tsa/statespace/sarimax.py:966: UserWarning: Non-stationary starting autoregressive parameters found. Using zeros as starting parameters.\n",
            "  warn('Non-stationary starting autoregressive parameters'\n",
            "/usr/local/lib/python3.7/dist-packages/statsmodels/tsa/statespace/sarimax.py:978: UserWarning: Non-invertible starting MA parameters found. Using zeros as starting parameters.\n",
            "  warn('Non-invertible starting MA parameters found.'\n",
            "/usr/local/lib/python3.7/dist-packages/statsmodels/tsa/statespace/sarimax.py:966: UserWarning: Non-stationary starting autoregressive parameters found. Using zeros as starting parameters.\n",
            "  warn('Non-stationary starting autoregressive parameters'\n",
            "/usr/local/lib/python3.7/dist-packages/statsmodels/tsa/statespace/sarimax.py:978: UserWarning: Non-invertible starting MA parameters found. Using zeros as starting parameters.\n",
            "  warn('Non-invertible starting MA parameters found.'\n"
          ],
          "name": "stderr"
        },
        {
          "output_type": "execute_result",
          "data": {
            "text/plain": [
              "AutoARIMA()"
            ]
          },
          "metadata": {
            "tags": []
          },
          "execution_count": 23
        }
      ]
    },
    {
      "cell_type": "code",
      "metadata": {
        "id": "xVuUqZp5k2LS",
        "colab": {
          "base_uri": "https://localhost:8080/"
        },
        "outputId": "f097b6c1-82e5-4f31-9f3e-37270e8a5b27"
      },
      "source": [
        "# посчитайте метрики на test\n",
        "y_pred_sarima = sarima.predict(fh)\n",
        "y_pred_auto = autoarima.predict(fh)\n",
        "print('SARIMA:')\n",
        "print(mean_absolute_error(ts2_test.brent, y_pred_sarima))\n",
        "print('AutoARIMA:')\n",
        "print(mean_absolute_error(ts2_test.brent, y_pred_auto))"
      ],
      "execution_count": 24,
      "outputs": [
        {
          "output_type": "stream",
          "text": [
            "SARIMA:\n",
            "10.469979456061747\n",
            "AutoARIMA:\n",
            "11.58453986739932\n"
          ],
          "name": "stdout"
        }
      ]
    },
    {
      "cell_type": "markdown",
      "metadata": {
        "id": "gStdA0Lelhvc"
      },
      "source": [
        "### LGT/DLT (1 балл).\n",
        "\n",
        "Обучите из библиотеки `orbit` модели LGT и DLT"
      ]
    },
    {
      "cell_type": "code",
      "metadata": {
        "id": "4OPLh7ddAVOr",
        "colab": {
          "base_uri": "https://localhost:8080/",
          "height": 241
        },
        "outputId": "62328ba8-31dd-4097-9591-b3fc52df3ed3"
      },
      "source": [
        "from orbit.models.lgt import LGTFull\n",
        "from orbit.models.dlt import DLTFull\n",
        "\n",
        "# ваш код обучения моделей здесь\n",
        "dlt = DLTFull(\n",
        "    response_col='brent', \n",
        "    date_col='date',\n",
        "    regressor_col=[],\n",
        "    seasonality=52,\n",
        ")\n",
        "\n",
        "# обучаем модель\n",
        "dlt.fit(df=ts2_train)\n",
        "\n",
        "# делаем прогноз\n",
        "predicted_df_dlt = dlt.predict(df=ts2_test)\n",
        "\n",
        "# выводим таблицу прогноза\n",
        "predicted_df_dlt.head()"
      ],
      "execution_count": 25,
      "outputs": [
        {
          "output_type": "stream",
          "text": [
            "WARNING:pystan:Maximum (flat) parameter count (1000) exceeded: skipping diagnostic tests for n_eff and Rhat.\n",
            "To run all diagnostics call pystan.check_hmc_diagnostics(fit)\n"
          ],
          "name": "stderr"
        },
        {
          "output_type": "execute_result",
          "data": {
            "text/html": [
              "<div>\n",
              "<style scoped>\n",
              "    .dataframe tbody tr th:only-of-type {\n",
              "        vertical-align: middle;\n",
              "    }\n",
              "\n",
              "    .dataframe tbody tr th {\n",
              "        vertical-align: top;\n",
              "    }\n",
              "\n",
              "    .dataframe thead th {\n",
              "        text-align: right;\n",
              "    }\n",
              "</style>\n",
              "<table border=\"1\" class=\"dataframe\">\n",
              "  <thead>\n",
              "    <tr style=\"text-align: right;\">\n",
              "      <th></th>\n",
              "      <th>date</th>\n",
              "      <th>prediction_5</th>\n",
              "      <th>prediction</th>\n",
              "      <th>prediction_95</th>\n",
              "    </tr>\n",
              "  </thead>\n",
              "  <tbody>\n",
              "    <tr>\n",
              "      <th>0</th>\n",
              "      <td>2016-06-01</td>\n",
              "      <td>42.211958</td>\n",
              "      <td>49.730991</td>\n",
              "      <td>55.306778</td>\n",
              "    </tr>\n",
              "    <tr>\n",
              "      <th>1</th>\n",
              "      <td>2016-07-01</td>\n",
              "      <td>42.163750</td>\n",
              "      <td>52.425360</td>\n",
              "      <td>63.871677</td>\n",
              "    </tr>\n",
              "    <tr>\n",
              "      <th>2</th>\n",
              "      <td>2016-08-01</td>\n",
              "      <td>40.001680</td>\n",
              "      <td>54.587018</td>\n",
              "      <td>71.592630</td>\n",
              "    </tr>\n",
              "    <tr>\n",
              "      <th>3</th>\n",
              "      <td>2016-09-01</td>\n",
              "      <td>34.515271</td>\n",
              "      <td>57.763149</td>\n",
              "      <td>77.315604</td>\n",
              "    </tr>\n",
              "    <tr>\n",
              "      <th>4</th>\n",
              "      <td>2016-10-01</td>\n",
              "      <td>33.865257</td>\n",
              "      <td>58.779713</td>\n",
              "      <td>84.902738</td>\n",
              "    </tr>\n",
              "  </tbody>\n",
              "</table>\n",
              "</div>"
            ],
            "text/plain": [
              "        date  prediction_5  prediction  prediction_95\n",
              "0 2016-06-01     42.211958   49.730991      55.306778\n",
              "1 2016-07-01     42.163750   52.425360      63.871677\n",
              "2 2016-08-01     40.001680   54.587018      71.592630\n",
              "3 2016-09-01     34.515271   57.763149      77.315604\n",
              "4 2016-10-01     33.865257   58.779713      84.902738"
            ]
          },
          "metadata": {
            "tags": []
          },
          "execution_count": 25
        }
      ]
    },
    {
      "cell_type": "code",
      "metadata": {
        "id": "g76lFNQCl2CA",
        "colab": {
          "base_uri": "https://localhost:8080/"
        },
        "outputId": "b65d788f-f52e-4fcb-e615-539310c19eb3"
      },
      "source": [
        "# посчитайте метрики на test\n",
        "print('DLT:')\n",
        "print(mean_absolute_error(ts2_test.brent, predicted_df_dlt.prediction))"
      ],
      "execution_count": 26,
      "outputs": [
        {
          "output_type": "stream",
          "text": [
            "DLT:\n",
            "9.097453920567101\n"
          ],
          "name": "stdout"
        }
      ]
    },
    {
      "cell_type": "code",
      "metadata": {
        "colab": {
          "base_uri": "https://localhost:8080/",
          "height": 276
        },
        "id": "LbZWolY45OF0",
        "outputId": "062c88a9-ef07-4722-9241-b2f2ff45adb2"
      },
      "source": [
        "lgt = LGTFull(\n",
        "    response_col='brent', \n",
        "    date_col='date',\n",
        "    regressor_col=[],\n",
        "    seasonality=52,\n",
        ")\n",
        "\n",
        "# обучаем модель\n",
        "lgt.fit(df=ts2_train)\n",
        "\n",
        "# делаем прогноз\n",
        "predicted_df = lgt.predict(df=ts2_test)\n",
        "\n",
        "# выводим таблицу прогноза\n",
        "predicted_df.head()"
      ],
      "execution_count": 27,
      "outputs": [
        {
          "output_type": "stream",
          "text": [
            "WARNING:pystan:Maximum (flat) parameter count (1000) exceeded: skipping diagnostic tests for n_eff and Rhat.\n",
            "To run all diagnostics call pystan.check_hmc_diagnostics(fit)\n",
            "WARNING:pystan:2 of 100 iterations ended with a divergence (2 %).\n",
            "WARNING:pystan:Try running with adapt_delta larger than 0.8 to remove the divergences.\n"
          ],
          "name": "stderr"
        },
        {
          "output_type": "execute_result",
          "data": {
            "text/html": [
              "<div>\n",
              "<style scoped>\n",
              "    .dataframe tbody tr th:only-of-type {\n",
              "        vertical-align: middle;\n",
              "    }\n",
              "\n",
              "    .dataframe tbody tr th {\n",
              "        vertical-align: top;\n",
              "    }\n",
              "\n",
              "    .dataframe thead th {\n",
              "        text-align: right;\n",
              "    }\n",
              "</style>\n",
              "<table border=\"1\" class=\"dataframe\">\n",
              "  <thead>\n",
              "    <tr style=\"text-align: right;\">\n",
              "      <th></th>\n",
              "      <th>date</th>\n",
              "      <th>prediction_5</th>\n",
              "      <th>prediction</th>\n",
              "      <th>prediction_95</th>\n",
              "    </tr>\n",
              "  </thead>\n",
              "  <tbody>\n",
              "    <tr>\n",
              "      <th>0</th>\n",
              "      <td>2016-06-01</td>\n",
              "      <td>42.613302</td>\n",
              "      <td>48.759112</td>\n",
              "      <td>53.641552</td>\n",
              "    </tr>\n",
              "    <tr>\n",
              "      <th>1</th>\n",
              "      <td>2016-07-01</td>\n",
              "      <td>39.564528</td>\n",
              "      <td>50.596035</td>\n",
              "      <td>60.807147</td>\n",
              "    </tr>\n",
              "    <tr>\n",
              "      <th>2</th>\n",
              "      <td>2016-08-01</td>\n",
              "      <td>30.604676</td>\n",
              "      <td>51.652556</td>\n",
              "      <td>68.162050</td>\n",
              "    </tr>\n",
              "    <tr>\n",
              "      <th>3</th>\n",
              "      <td>2016-09-01</td>\n",
              "      <td>30.488746</td>\n",
              "      <td>54.114587</td>\n",
              "      <td>72.427532</td>\n",
              "    </tr>\n",
              "    <tr>\n",
              "      <th>4</th>\n",
              "      <td>2016-10-01</td>\n",
              "      <td>28.786556</td>\n",
              "      <td>53.416259</td>\n",
              "      <td>78.601545</td>\n",
              "    </tr>\n",
              "  </tbody>\n",
              "</table>\n",
              "</div>"
            ],
            "text/plain": [
              "        date  prediction_5  prediction  prediction_95\n",
              "0 2016-06-01     42.613302   48.759112      53.641552\n",
              "1 2016-07-01     39.564528   50.596035      60.807147\n",
              "2 2016-08-01     30.604676   51.652556      68.162050\n",
              "3 2016-09-01     30.488746   54.114587      72.427532\n",
              "4 2016-10-01     28.786556   53.416259      78.601545"
            ]
          },
          "metadata": {
            "tags": []
          },
          "execution_count": 27
        }
      ]
    },
    {
      "cell_type": "code",
      "metadata": {
        "colab": {
          "base_uri": "https://localhost:8080/"
        },
        "id": "03ULXnmX5T_2",
        "outputId": "4ced7227-d2ed-4fb7-8d00-1cd7a952e3a7"
      },
      "source": [
        "print('LGT:')\n",
        "print(mean_absolute_error(ts2_test.brent, predicted_df.prediction))"
      ],
      "execution_count": 28,
      "outputs": [
        {
          "output_type": "stream",
          "text": [
            "LGT:\n",
            "16.52356018993367\n"
          ],
          "name": "stdout"
        }
      ]
    },
    {
      "cell_type": "markdown",
      "metadata": {
        "id": "djQ5Ej_Ql-tK"
      },
      "source": [
        "### ETS (2 балла).\n",
        "\n",
        "Обучите из библиотеки `sklearn` модели:\n",
        "\n",
        "* ETS(AAA) (`ExponentialSmoothing` в `sktime`)\n",
        "* ETS с автоматическим выбором по AIC (`AutoETS` в `sktime`)"
      ]
    },
    {
      "cell_type": "code",
      "metadata": {
        "id": "bufbWl7lmRq5",
        "colab": {
          "base_uri": "https://localhost:8080/"
        },
        "outputId": "a73ccdcf-9010-4de4-87c4-deabab3fd565"
      },
      "source": [
        "from sktime.forecasting.exp_smoothing import ExponentialSmoothing\n",
        "from sktime.forecasting.ets import AutoETS\n",
        "ets = ExponentialSmoothing(trend = 'add', seasonal='add')\n",
        "ets.fit(train_ts2)\n",
        "auto_ets = AutoETS()\n",
        "auto_ets.fit(train_ts2)"
      ],
      "execution_count": 29,
      "outputs": [
        {
          "output_type": "execute_result",
          "data": {
            "text/plain": [
              "AutoETS()"
            ]
          },
          "metadata": {
            "tags": []
          },
          "execution_count": 29
        }
      ]
    },
    {
      "cell_type": "code",
      "metadata": {
        "id": "3rZPu6X-myIH",
        "colab": {
          "base_uri": "https://localhost:8080/"
        },
        "outputId": "161ec96b-0642-4252-fd4e-23410bf91cca"
      },
      "source": [
        "# посчитайте метрики на test\n",
        "y_pred_ets = ets.predict(fh)\n",
        "y_pred_autoets = auto_ets.predict(fh)\n",
        "print('ETS:')\n",
        "print(mean_absolute_error(ts2_test.brent, y_pred_ets))\n",
        "print('AutoETS:')\n",
        "print(mean_absolute_error(ts2_test.brent, y_pred_autoets))"
      ],
      "execution_count": 30,
      "outputs": [
        {
          "output_type": "stream",
          "text": [
            "ETS:\n",
            "12.777865049853888\n",
            "AutoETS:\n",
            "13.6499786407663\n"
          ],
          "name": "stdout"
        }
      ]
    },
    {
      "cell_type": "markdown",
      "metadata": {
        "id": "VBWcts9zm6_R"
      },
      "source": [
        "Нарисуйте для наилучшей модели предсказания с доверительным интервалом (если модель выдает его) и наложите их на истинные значения. В `sktime` `ETS` модель пока ещё не выдаёт доверительные интервалы, но при желании до них можно дотянуться :)"
      ]
    },
    {
      "cell_type": "code",
      "metadata": {
        "colab": {
          "base_uri": "https://localhost:8080/"
        },
        "id": "6o0s5yCT8XrS",
        "outputId": "a1512337-e9c6-42e6-8d96-899b2d2e9105"
      },
      "source": [
        "y_pred_ets"
      ],
      "execution_count": 31,
      "outputs": [
        {
          "output_type": "execute_result",
          "data": {
            "text/plain": [
              "date\n",
              "2016-06    46.954054\n",
              "2016-07    47.871312\n",
              "2016-08    47.986949\n",
              "2016-09    47.565115\n",
              "2016-10    46.462312\n",
              "             ...    \n",
              "2022-08    52.859379\n",
              "2022-09    52.437546\n",
              "2022-10    51.334743\n",
              "2022-11    49.914666\n",
              "2022-12    48.203236\n",
              "Freq: M, Length: 79, dtype: float64"
            ]
          },
          "metadata": {
            "tags": []
          },
          "execution_count": 31
        }
      ]
    },
    {
      "cell_type": "code",
      "metadata": {
        "id": "ywyajRSonIld",
        "colab": {
          "base_uri": "https://localhost:8080/",
          "height": 282
        },
        "outputId": "49feeff2-da6e-4c7d-95ad-994e3be80416"
      },
      "source": [
        "# нарисуйте пресказания\n",
        "plt.figure(figsize = (12, 4))\n",
        "plt.plot(ts2_test.date, ts2_test.brent)\n",
        "plt.plot(predicted_df.date, predicted_df.prediction)\n",
        "plt.fill_between(predicted_df_dlt.date, predicted_df_dlt.prediction_5, predicted_df_dlt.prediction_95, color='y', alpha=.5)"
      ],
      "execution_count": 34,
      "outputs": [
        {
          "output_type": "execute_result",
          "data": {
            "text/plain": [
              "<matplotlib.collections.PolyCollection at 0x7f81f7b291d0>"
            ]
          },
          "metadata": {
            "tags": []
          },
          "execution_count": 34
        },
        {
          "output_type": "display_data",
          "data": {
            "image/png": "[encoded data removed]",
            "text/plain": [
              "<Figure size 864x288 with 1 Axes>"
            ]
          },
          "metadata": {
            "tags": [],
            "needs_background": "light"
          }
        }
      ]
    },
    {
      "cell_type": "markdown",
      "metadata": {
        "id": "9zOIFtBCng_F"
      },
      "source": [
        "## Задание 4. Предсказание дневного временного ряда (2.5 балла).\n",
        "\n",
        "В этом задании Вам предстоит попробовать предсказать выбранный Вами дневной временной ряд.\n",
        "\n",
        "Аналогично, в качестве метрики используем MAE.\n",
        "\n"
      ]
    },
    {
      "cell_type": "markdown",
      "metadata": {
        "id": "yi4Xtcnpn90l"
      },
      "source": [
        "### NaiveForecaster из sktime (0.5 балла).\n",
        "\n",
        "*   List item\n",
        "*   List item\n",
        "\n",
        "\n",
        "\n",
        "Посчитайте предсказания следующими двумя наивными способами:\n",
        "\n",
        "* $\\hat{y}_{t+1} = y_{t}$\n",
        "* $\\hat{y}_{t+1} = y_{t-seasonality+1}$"
      ]
    },
    {
      "cell_type": "code",
      "metadata": {
        "id": "nhGkMQ899lyP"
      },
      "source": [
        "train_ts1 = pd.Series(data=ts1_train['meantemp'].values, index=ts1_train.index)\n",
        "test_ts1 = pd.Series(data=ts1_test['meantemp'].values, index=ts1_test.index)\n",
        "fh = ForecastingHorizon(test_ts1.index, is_relative=False)"
      ],
      "execution_count": 35,
      "outputs": []
    },
    {
      "cell_type": "code",
      "metadata": {
        "id": "nlWt52e6nz6p",
        "colab": {
          "base_uri": "https://localhost:8080/"
        },
        "outputId": "3d29e74d-16e4-42a8-fa1e-7978ff030e12"
      },
      "source": [
        "from sktime.forecasting.naive import NaiveForecaster\n",
        "\n",
        "# ваш код обучения моделей здесь\n",
        "naiveforecaster = NaiveForecaster()\n",
        "naiveforecaster.fit(train_ts1)"
      ],
      "execution_count": 36,
      "outputs": [
        {
          "output_type": "execute_result",
          "data": {
            "text/plain": [
              "NaiveForecaster()"
            ]
          },
          "metadata": {
            "tags": []
          },
          "execution_count": 36
        }
      ]
    },
    {
      "cell_type": "code",
      "metadata": {
        "id": "fgN3g8C0oBbd",
        "colab": {
          "base_uri": "https://localhost:8080/"
        },
        "outputId": "8ec489cd-58b7-488b-d384-7d5a8b09cb0a"
      },
      "source": [
        "# посчитайте метрики на test\n",
        "y_pred = naiveforecaster.predict(fh)\n",
        "mean_absolute_error(ts1_test.meantemp, y_pred)"
      ],
      "execution_count": 38,
      "outputs": [
        {
          "output_type": "execute_result",
          "data": {
            "text/plain": [
              "6.893501274618636"
            ]
          },
          "metadata": {
            "tags": []
          },
          "execution_count": 38
        }
      ]
    },
    {
      "cell_type": "markdown",
      "metadata": {
        "id": "F9SxF6cKoHI-"
      },
      "source": [
        "### KTR из orbit (1 балл).\n",
        "\n"
      ]
    },
    {
      "cell_type": "code",
      "metadata": {
        "colab": {
          "base_uri": "https://localhost:8080/",
          "height": 238
        },
        "id": "4prCl2jI_5e5",
        "outputId": "ad09c9b9-bb6f-4a49-fbc3-e65187399c33"
      },
      "source": [
        "ts1_train.head()"
      ],
      "execution_count": 39,
      "outputs": [
        {
          "output_type": "execute_result",
          "data": {
            "text/html": [
              "<div>\n",
              "<style scoped>\n",
              "    .dataframe tbody tr th:only-of-type {\n",
              "        vertical-align: middle;\n",
              "    }\n",
              "\n",
              "    .dataframe tbody tr th {\n",
              "        vertical-align: top;\n",
              "    }\n",
              "\n",
              "    .dataframe thead th {\n",
              "        text-align: right;\n",
              "    }\n",
              "</style>\n",
              "<table border=\"1\" class=\"dataframe\">\n",
              "  <thead>\n",
              "    <tr style=\"text-align: right;\">\n",
              "      <th></th>\n",
              "      <th>date</th>\n",
              "      <th>meantemp</th>\n",
              "      <th>humidity</th>\n",
              "      <th>wind_speed</th>\n",
              "      <th>meanpressure</th>\n",
              "    </tr>\n",
              "    <tr>\n",
              "      <th>date</th>\n",
              "      <th></th>\n",
              "      <th></th>\n",
              "      <th></th>\n",
              "      <th></th>\n",
              "      <th></th>\n",
              "    </tr>\n",
              "  </thead>\n",
              "  <tbody>\n",
              "    <tr>\n",
              "      <th>2013-01-01</th>\n",
              "      <td>2013-01-01</td>\n",
              "      <td>10.000000</td>\n",
              "      <td>84.500000</td>\n",
              "      <td>0.000000</td>\n",
              "      <td>1015.666667</td>\n",
              "    </tr>\n",
              "    <tr>\n",
              "      <th>2013-01-02</th>\n",
              "      <td>2013-01-02</td>\n",
              "      <td>7.400000</td>\n",
              "      <td>92.000000</td>\n",
              "      <td>2.980000</td>\n",
              "      <td>1017.800000</td>\n",
              "    </tr>\n",
              "    <tr>\n",
              "      <th>2013-01-03</th>\n",
              "      <td>2013-01-03</td>\n",
              "      <td>7.166667</td>\n",
              "      <td>87.000000</td>\n",
              "      <td>4.633333</td>\n",
              "      <td>1018.666667</td>\n",
              "    </tr>\n",
              "    <tr>\n",
              "      <th>2013-01-04</th>\n",
              "      <td>2013-01-04</td>\n",
              "      <td>8.666667</td>\n",
              "      <td>71.333333</td>\n",
              "      <td>1.233333</td>\n",
              "      <td>1017.166667</td>\n",
              "    </tr>\n",
              "    <tr>\n",
              "      <th>2013-01-05</th>\n",
              "      <td>2013-01-05</td>\n",
              "      <td>6.000000</td>\n",
              "      <td>86.833333</td>\n",
              "      <td>3.700000</td>\n",
              "      <td>1016.500000</td>\n",
              "    </tr>\n",
              "  </tbody>\n",
              "</table>\n",
              "</div>"
            ],
            "text/plain": [
              "                 date   meantemp   humidity  wind_speed  meanpressure\n",
              "date                                                                 \n",
              "2013-01-01 2013-01-01  10.000000  84.500000    0.000000   1015.666667\n",
              "2013-01-02 2013-01-02   7.400000  92.000000    2.980000   1017.800000\n",
              "2013-01-03 2013-01-03   7.166667  87.000000    4.633333   1018.666667\n",
              "2013-01-04 2013-01-04   8.666667  71.333333    1.233333   1017.166667\n",
              "2013-01-05 2013-01-05   6.000000  86.833333    3.700000   1016.500000"
            ]
          },
          "metadata": {
            "tags": []
          },
          "execution_count": 39
        }
      ]
    },
    {
      "cell_type": "code",
      "metadata": {
        "id": "IM1ELnZnoe_k",
        "colab": {
          "base_uri": "https://localhost:8080/",
          "height": 206
        },
        "outputId": "f469ea96-25ce-4ec7-c2e4-76a219e7dd2a"
      },
      "source": [
        "from orbit.models.ktrlite import KTRLiteMAP\n",
        "\n",
        "# ваш код обучения моделей здесь\n",
        "ktr = KTRLiteMAP(\n",
        "    response_col='meantemp', \n",
        "    date_col='date',\n",
        "    seasonality=[7, 365.25],\n",
        ")\n",
        "\n",
        "# обучаем модель\n",
        "ktr.fit(df=ts1_train)\n",
        "\n",
        "# делаем прогноз\n",
        "predicted_df_ktr = ktr.predict(df=ts1_test)\n",
        "\n",
        "# выводим таблицу прогноза\n",
        "predicted_df_ktr.head()"
      ],
      "execution_count": 42,
      "outputs": [
        {
          "output_type": "execute_result",
          "data": {
            "text/html": [
              "<div>\n",
              "<style scoped>\n",
              "    .dataframe tbody tr th:only-of-type {\n",
              "        vertical-align: middle;\n",
              "    }\n",
              "\n",
              "    .dataframe tbody tr th {\n",
              "        vertical-align: top;\n",
              "    }\n",
              "\n",
              "    .dataframe thead th {\n",
              "        text-align: right;\n",
              "    }\n",
              "</style>\n",
              "<table border=\"1\" class=\"dataframe\">\n",
              "  <thead>\n",
              "    <tr style=\"text-align: right;\">\n",
              "      <th></th>\n",
              "      <th>date</th>\n",
              "      <th>prediction_5</th>\n",
              "      <th>prediction</th>\n",
              "      <th>prediction_95</th>\n",
              "    </tr>\n",
              "  </thead>\n",
              "  <tbody>\n",
              "    <tr>\n",
              "      <th>0</th>\n",
              "      <td>2016-03-16</td>\n",
              "      <td>21.773136</td>\n",
              "      <td>25.444126</td>\n",
              "      <td>29.089791</td>\n",
              "    </tr>\n",
              "    <tr>\n",
              "      <th>1</th>\n",
              "      <td>2016-03-17</td>\n",
              "      <td>22.078201</td>\n",
              "      <td>25.628665</td>\n",
              "      <td>29.200899</td>\n",
              "    </tr>\n",
              "    <tr>\n",
              "      <th>2</th>\n",
              "      <td>2016-03-18</td>\n",
              "      <td>22.208589</td>\n",
              "      <td>25.775256</td>\n",
              "      <td>29.368603</td>\n",
              "    </tr>\n",
              "    <tr>\n",
              "      <th>3</th>\n",
              "      <td>2016-03-19</td>\n",
              "      <td>22.295974</td>\n",
              "      <td>25.904140</td>\n",
              "      <td>29.532708</td>\n",
              "    </tr>\n",
              "    <tr>\n",
              "      <th>4</th>\n",
              "      <td>2016-03-20</td>\n",
              "      <td>22.604903</td>\n",
              "      <td>26.126908</td>\n",
              "      <td>29.711486</td>\n",
              "    </tr>\n",
              "  </tbody>\n",
              "</table>\n",
              "</div>"
            ],
            "text/plain": [
              "        date  prediction_5  prediction  prediction_95\n",
              "0 2016-03-16     21.773136   25.444126      29.089791\n",
              "1 2016-03-17     22.078201   25.628665      29.200899\n",
              "2 2016-03-18     22.208589   25.775256      29.368603\n",
              "3 2016-03-19     22.295974   25.904140      29.532708\n",
              "4 2016-03-20     22.604903   26.126908      29.711486"
            ]
          },
          "metadata": {
            "tags": []
          },
          "execution_count": 42
        }
      ]
    },
    {
      "cell_type": "code",
      "metadata": {
        "id": "FgXzlxpAojdZ",
        "colab": {
          "base_uri": "https://localhost:8080/"
        },
        "outputId": "a65a6320-60a0-48dc-b24a-23491457a7fe"
      },
      "source": [
        "# посчитайте метрики на test\n",
        "print('KTR:')\n",
        "print(mean_absolute_error(ts1_test.meantemp, predicted_df_ktr.prediction))"
      ],
      "execution_count": 43,
      "outputs": [
        {
          "output_type": "stream",
          "text": [
            "KTR:\n",
            "1.6392208647056816\n"
          ],
          "name": "stdout"
        }
      ]
    },
    {
      "cell_type": "markdown",
      "metadata": {
        "id": "tB4yA3O5pkOG"
      },
      "source": [
        "### Phophet (1 балл).\n",
        "\n"
      ]
    },
    {
      "cell_type": "code",
      "metadata": {
        "colab": {
          "base_uri": "https://localhost:8080/",
          "height": 238
        },
        "id": "F6IPwr3lBIRm",
        "outputId": "fa1bfc85-e684-4998-829e-085db1ba9903"
      },
      "source": [
        "ts1.head()"
      ],
      "execution_count": 44,
      "outputs": [
        {
          "output_type": "execute_result",
          "data": {
            "text/html": [
              "<div>\n",
              "<style scoped>\n",
              "    .dataframe tbody tr th:only-of-type {\n",
              "        vertical-align: middle;\n",
              "    }\n",
              "\n",
              "    .dataframe tbody tr th {\n",
              "        vertical-align: top;\n",
              "    }\n",
              "\n",
              "    .dataframe thead th {\n",
              "        text-align: right;\n",
              "    }\n",
              "</style>\n",
              "<table border=\"1\" class=\"dataframe\">\n",
              "  <thead>\n",
              "    <tr style=\"text-align: right;\">\n",
              "      <th></th>\n",
              "      <th>date</th>\n",
              "      <th>meantemp</th>\n",
              "      <th>humidity</th>\n",
              "      <th>wind_speed</th>\n",
              "      <th>meanpressure</th>\n",
              "    </tr>\n",
              "    <tr>\n",
              "      <th>date</th>\n",
              "      <th></th>\n",
              "      <th></th>\n",
              "      <th></th>\n",
              "      <th></th>\n",
              "      <th></th>\n",
              "    </tr>\n",
              "  </thead>\n",
              "  <tbody>\n",
              "    <tr>\n",
              "      <th>2013-01-01</th>\n",
              "      <td>2013-01-01</td>\n",
              "      <td>10.000000</td>\n",
              "      <td>84.500000</td>\n",
              "      <td>0.000000</td>\n",
              "      <td>1015.666667</td>\n",
              "    </tr>\n",
              "    <tr>\n",
              "      <th>2013-01-02</th>\n",
              "      <td>2013-01-02</td>\n",
              "      <td>7.400000</td>\n",
              "      <td>92.000000</td>\n",
              "      <td>2.980000</td>\n",
              "      <td>1017.800000</td>\n",
              "    </tr>\n",
              "    <tr>\n",
              "      <th>2013-01-03</th>\n",
              "      <td>2013-01-03</td>\n",
              "      <td>7.166667</td>\n",
              "      <td>87.000000</td>\n",
              "      <td>4.633333</td>\n",
              "      <td>1018.666667</td>\n",
              "    </tr>\n",
              "    <tr>\n",
              "      <th>2013-01-04</th>\n",
              "      <td>2013-01-04</td>\n",
              "      <td>8.666667</td>\n",
              "      <td>71.333333</td>\n",
              "      <td>1.233333</td>\n",
              "      <td>1017.166667</td>\n",
              "    </tr>\n",
              "    <tr>\n",
              "      <th>2013-01-05</th>\n",
              "      <td>2013-01-05</td>\n",
              "      <td>6.000000</td>\n",
              "      <td>86.833333</td>\n",
              "      <td>3.700000</td>\n",
              "      <td>1016.500000</td>\n",
              "    </tr>\n",
              "  </tbody>\n",
              "</table>\n",
              "</div>"
            ],
            "text/plain": [
              "                 date   meantemp   humidity  wind_speed  meanpressure\n",
              "date                                                                 \n",
              "2013-01-01 2013-01-01  10.000000  84.500000    0.000000   1015.666667\n",
              "2013-01-02 2013-01-02   7.400000  92.000000    2.980000   1017.800000\n",
              "2013-01-03 2013-01-03   7.166667  87.000000    4.633333   1018.666667\n",
              "2013-01-04 2013-01-04   8.666667  71.333333    1.233333   1017.166667\n",
              "2013-01-05 2013-01-05   6.000000  86.833333    3.700000   1016.500000"
            ]
          },
          "metadata": {
            "tags": []
          },
          "execution_count": 44
        }
      ]
    },
    {
      "cell_type": "code",
      "metadata": {
        "id": "vXN-TgC5ps4p",
        "colab": {
          "base_uri": "https://localhost:8080/"
        },
        "outputId": "09989448-0658-4fb0-8cdb-b621076628b6"
      },
      "source": [
        "from prophet import Prophet\n",
        "\n",
        "# ваш код обучения моделей здесь\n",
        "train_df_prophet = ts1_train[['date', 'meantemp', 'humidity', 'wind_speed', 'meanpressure']]\n",
        "train_df_prophet.columns = ['ds', 'y', 'humidity', 'wind_speed', 'meanpressure']\n",
        "model = Prophet(interval_width=0.9)\n",
        "\n",
        "# добавляем регрессоры\n",
        "model.add_regressor('humidity')\n",
        "model.add_regressor('wind_speed')\n",
        "model.add_regressor('meanpressure')\n",
        "\n",
        "# обучаем модель\n",
        "model.fit(train_df_prophet)"
      ],
      "execution_count": 47,
      "outputs": [
        {
          "output_type": "stream",
          "text": [
            "INFO:prophet:Disabling daily seasonality. Run prophet with daily_seasonality=True to override this.\n"
          ],
          "name": "stderr"
        },
        {
          "output_type": "execute_result",
          "data": {
            "text/plain": [
              "<prophet.forecaster.Prophet at 0x7f81f140ab50>"
            ]
          },
          "metadata": {
            "tags": []
          },
          "execution_count": 47
        }
      ]
    },
    {
      "cell_type": "code",
      "metadata": {
        "id": "_72XL9Q1pvLB",
        "colab": {
          "base_uri": "https://localhost:8080/"
        },
        "outputId": "79ad22a2-4e98-47b8-f5e2-4fbeb5e70fd3"
      },
      "source": [
        "# посчитайте метрики на test\n",
        "future = ts1_test[['date', 'humidity', 'wind_speed', 'meanpressure']]\n",
        "future.columns = ['ds', 'humidity', 'wind_speed', 'meanpressure']\n",
        "forecast = model.predict(future)\n",
        "forecast[['ds', 'yhat', 'yhat_lower', 'yhat_upper']].head()\n",
        "print('Orbit:')\n",
        "print(mean_absolute_error(ts1_test.meantemp, forecast.yhat))"
      ],
      "execution_count": 51,
      "outputs": [
        {
          "output_type": "stream",
          "text": [
            "Orbit:\n",
            "11.221639190863858\n"
          ],
          "name": "stdout"
        }
      ]
    },
    {
      "cell_type": "markdown",
      "metadata": {
        "id": "h2vnQTxOqR_b"
      },
      "source": [
        "Нарисуйте для наилучшей модели предсказания с доверительным интервалом (если модель выдает его) и наложите их на истинные значения."
      ]
    },
    {
      "cell_type": "code",
      "metadata": {
        "id": "qUR6CFvNqUnA",
        "colab": {
          "base_uri": "https://localhost:8080/",
          "height": 282
        },
        "outputId": "b9ba0907-8cc8-4826-d50b-58394c1bc2c0"
      },
      "source": [
        "# нарисуйте пресказания\n",
        "plt.figure(figsize = (12, 4))\n",
        "plt.plot(ts1_test.date, ts1_test.meantemp)\n",
        "plt.plot(predicted_df_ktr.date, predicted_df_ktr.prediction)\n",
        "plt.fill_between(predicted_df_ktr.date, predicted_df_ktr.prediction_5, predicted_df_ktr.prediction_95, color='y', alpha=.5)"
      ],
      "execution_count": 53,
      "outputs": [
        {
          "output_type": "execute_result",
          "data": {
            "text/plain": [
              "<matplotlib.collections.PolyCollection at 0x7f81f2e2f3d0>"
            ]
          },
          "metadata": {
            "tags": []
          },
          "execution_count": 53
        },
        {
          "output_type": "display_data",
          "data": {
            "image/png": "[encoded data removed]",
            "text/plain": [
              "<Figure size 864x288 with 1 Axes>"
            ]
          },
          "metadata": {
            "tags": [],
            "needs_background": "light"
          }
        }
      ]
    },
    {
      "cell_type": "markdown",
      "metadata": {
        "id": "fUs_-aYFqZMv"
      },
      "source": [
        "## Бонус. Напишите свою модель на STAN (3 балла).\n",
        "\n",
        "Разработайте и испытай свою модель для месячного ряда в STAN.\n",
        "\n",
        "Сравните качество прогнозов с наивной сезонной на тестовой выборке с помощью MAE. \n",
        "\n"
      ]
    },
    {
      "cell_type": "code",
      "metadata": {
        "id": "nC-PRk4eqqqO"
      },
      "source": [
        "# ваш код модели на STAN и её обучения моделей здесь"
      ],
      "execution_count": null,
      "outputs": []
    },
    {
      "cell_type": "code",
      "metadata": {
        "id": "qssr0cPrqvS_"
      },
      "source": [
        "# посчитайте метрики на test"
      ],
      "execution_count": null,
      "outputs": []
    },
    {
      "cell_type": "code",
      "metadata": {
        "id": "GgaAFZAyqwhY"
      },
      "source": [
        "# нарисуйте пресказания"
      ],
      "execution_count": null,
      "outputs": []
    }
  ]
}